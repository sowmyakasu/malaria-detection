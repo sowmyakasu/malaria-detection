{
  "cells": [
    {
      "cell_type": "code",
      "execution_count": null,
      "metadata": {
        "colab": {
          "base_uri": "https://localhost:8080/"
        },
        "id": "vkq5ydbGXh0c",
        "outputId": "f73954c4-9be0-46ab-f815-37daac4aa345"
      },
      "outputs": [
        {
          "output_type": "stream",
          "name": "stdout",
          "text": [
            "Requirement already satisfied: keras-tuner in /usr/local/lib/python3.11/dist-packages (1.4.7)\n",
            "Requirement already satisfied: keras in /usr/local/lib/python3.11/dist-packages (from keras-tuner) (3.8.0)\n",
            "Requirement already satisfied: packaging in /usr/local/lib/python3.11/dist-packages (from keras-tuner) (24.2)\n",
            "Requirement already satisfied: requests in /usr/local/lib/python3.11/dist-packages (from keras-tuner) (2.32.3)\n",
            "Requirement already satisfied: kt-legacy in /usr/local/lib/python3.11/dist-packages (from keras-tuner) (1.0.5)\n",
            "Requirement already satisfied: absl-py in /usr/local/lib/python3.11/dist-packages (from keras->keras-tuner) (1.4.0)\n",
            "Requirement already satisfied: numpy in /usr/local/lib/python3.11/dist-packages (from keras->keras-tuner) (2.0.2)\n",
            "Requirement already satisfied: rich in /usr/local/lib/python3.11/dist-packages (from keras->keras-tuner) (13.9.4)\n",
            "Requirement already satisfied: namex in /usr/local/lib/python3.11/dist-packages (from keras->keras-tuner) (0.0.8)\n",
            "Requirement already satisfied: h5py in /usr/local/lib/python3.11/dist-packages (from keras->keras-tuner) (3.13.0)\n",
            "Requirement already satisfied: optree in /usr/local/lib/python3.11/dist-packages (from keras->keras-tuner) (0.14.1)\n",
            "Requirement already satisfied: ml-dtypes in /usr/local/lib/python3.11/dist-packages (from keras->keras-tuner) (0.4.1)\n",
            "Requirement already satisfied: charset-normalizer<4,>=2 in /usr/local/lib/python3.11/dist-packages (from requests->keras-tuner) (3.4.1)\n",
            "Requirement already satisfied: idna<4,>=2.5 in /usr/local/lib/python3.11/dist-packages (from requests->keras-tuner) (3.10)\n",
            "Requirement already satisfied: urllib3<3,>=1.21.1 in /usr/local/lib/python3.11/dist-packages (from requests->keras-tuner) (2.3.0)\n",
            "Requirement already satisfied: certifi>=2017.4.17 in /usr/local/lib/python3.11/dist-packages (from requests->keras-tuner) (2025.1.31)\n",
            "Requirement already satisfied: typing-extensions>=4.5.0 in /usr/local/lib/python3.11/dist-packages (from optree->keras->keras-tuner) (4.12.2)\n",
            "Requirement already satisfied: markdown-it-py>=2.2.0 in /usr/local/lib/python3.11/dist-packages (from rich->keras->keras-tuner) (3.0.0)\n",
            "Requirement already satisfied: pygments<3.0.0,>=2.13.0 in /usr/local/lib/python3.11/dist-packages (from rich->keras->keras-tuner) (2.18.0)\n",
            "Requirement already satisfied: mdurl~=0.1 in /usr/local/lib/python3.11/dist-packages (from markdown-it-py>=2.2.0->rich->keras->keras-tuner) (0.1.2)\n"
          ]
        },
        {
          "output_type": "stream",
          "name": "stderr",
          "text": [
            "<ipython-input-2-f1ef5f837b41>:21: DeprecationWarning: `import kerastuner` is deprecated, please use `import keras_tuner`.\n",
            "  from kerastuner import RandomSearch  # Import RandomSearch\n"
          ]
        },
        {
          "output_type": "stream",
          "name": "stdout",
          "text": [
            "Mounted at /content/drive\n"
          ]
        }
      ],
      "source": [
        "# Install Keras Tuner (if not already installed)\n",
        "!pip install keras-tuner\n",
        "\n",
        "# Import required libraries\n",
        "import numpy as np\n",
        "import os\n",
        "import cv2\n",
        "import matplotlib.pyplot as plt\n",
        "import seaborn as sns\n",
        "from tensorflow.keras.models import Sequential, Model\n",
        "from tensorflow.keras.layers import Conv2D, MaxPooling2D, Flatten, Dense, Dropout, GlobalAveragePooling2D\n",
        "from tensorflow.keras.layers import BatchNormalization, LeakyReLU\n",
        "from tensorflow.keras.optimizers import Adam\n",
        "from tensorflow.keras.utils import to_categorical\n",
        "from sklearn.base import BaseEstimator, ClassifierMixin\n",
        "from sklearn.naive_bayes import GaussianNB\n",
        "from sklearn.linear_model import LogisticRegression\n",
        "from sklearn.metrics import classification_report, confusion_matrix, roc_curve, auc\n",
        "from sklearn.model_selection import train_test_split\n",
        "from tensorflow.keras.preprocessing.image import ImageDataGenerator\n",
        "from kerastuner import RandomSearch  # Import RandomSearch\n",
        "from kerastuner.engine.hyperparameters import HyperParameters  # Import HyperParameters\n",
        "from tensorflow.keras.applications import ResNet50  # Pre-trained model for transfer learning\n",
        "\n",
        "# Mount Google Drive\n",
        "from google.colab import drive\n",
        "drive.mount('/content/drive')"
      ]
    },
    {
      "cell_type": "code",
      "execution_count": null,
      "metadata": {
        "colab": {
          "base_uri": "https://localhost:8080/"
        },
        "id": "JPfbdhvSXoOI",
        "outputId": "733b293b-b7c7-44b0-81af-a0b26232cd4e"
      },
      "outputs": [
        {
          "output_type": "stream",
          "name": "stdout",
          "text": [
            "Dataset exists: True\n"
          ]
        }
      ],
      "source": [
        "# Define dataset path\n",
        "dataset_path = \"/content/drive/My Drive/Research/cell_images/\"\n",
        "print(\"Dataset exists:\", os.path.exists(dataset_path))"
      ]
    },
    {
      "cell_type": "code",
      "execution_count": null,
      "metadata": {
        "id": "QxkNDAyxX3tJ"
      },
      "outputs": [],
      "source": [
        "from tensorflow.keras.models import load_model\n",
        "from tensorflow.keras.optimizers import Adam\n",
        "\n",
        "class KerasClassifierWrapper:\n",
        "    def __init__(self, model_path=None, build_fn=None, epochs=10, batch_size=32):\n",
        "        self.model_path = model_path\n",
        "        self.build_fn = build_fn\n",
        "        self.epochs = epochs\n",
        "        self.batch_size = batch_size\n",
        "        self.model = None\n",
        "        self._initialize_model()\n",
        "\n",
        "    def _initialize_model(self):\n",
        "        if self.model_path:\n",
        "            # If a path is provided, load the model from the path\n",
        "            self.model = load_model(self.model_path)\n",
        "        elif self.build_fn:\n",
        "            # Otherwise, build the model using the provided build_fn\n",
        "            self.model = self.build_fn()\n",
        "        if self.model:\n",
        "            self.model.compile(optimizer=Adam(), loss='binary_crossentropy', metrics=['accuracy'])\n",
        "        else:\n",
        "            print(\"Error: Model not initialized properly.\")\n",
        "\n",
        "    def fit(self, X, y):\n",
        "        if self.model is None:\n",
        "            raise ValueError(\"Model is not initialized properly.\")\n",
        "        self.model.fit(X, y, epochs=self.epochs, batch_size=self.batch_size)\n",
        "\n",
        "    def predict_proba(self, X):\n",
        "        if self.model is None:\n",
        "            raise ValueError(\"Model is not initialized properly.\")\n",
        "        return self.model.predict(X)\n",
        "\n"
      ]
    },
    {
      "cell_type": "code",
      "execution_count": null,
      "metadata": {
        "colab": {
          "base_uri": "https://localhost:8080/"
        },
        "id": "T_qzGnl2YJ2r",
        "outputId": "236a5f72-abbd-401b-8a27-be52cd5b8d53"
      },
      "outputs": [
        {
          "output_type": "stream",
          "name": "stdout",
          "text": [
            "✅ Successfully loaded 20000 images.\n"
          ]
        }
      ],
      "source": [
        "# ✅ Define dataset\n",
        "categories = [\"Parasitized\", \"Uninfected\"]\n",
        "X, y = [], []\n",
        "max_images = 10000 # Load 10000 images per class\n",
        "\n",
        "for class_index, category in enumerate(categories):\n",
        "    category_path = os.path.join(dataset_path, category)\n",
        "    image_count = 0\n",
        "\n",
        "    for img_name in os.listdir(category_path):\n",
        "        img_path = os.path.join(category_path, img_name)\n",
        "\n",
        "        if not img_name.lower().endswith(('.png', '.jpg', '.jpeg')):\n",
        "            continue\n",
        "\n",
        "        img = cv2.imread(img_path)\n",
        "        if img is None:\n",
        "            continue\n",
        "\n",
        "        img = cv2.resize(img, (128, 128))  # Resize to match CNN input shape\n",
        "        X.append(img)\n",
        "        y.append(class_index)\n",
        "\n",
        "        image_count += 1\n",
        "        if image_count >= max_images:\n",
        "            break  # Stop after max_images per class\n",
        "\n",
        "# Convert to NumPy arrays\n",
        "X = np.array(X, dtype=\"float32\") / 255.0  # Normalize\n",
        "y = np.array(y)\n",
        "\n",
        "print(f\"✅ Successfully loaded {len(X)} images.\")\n"
      ]
    },
    {
      "cell_type": "code",
      "execution_count": null,
      "metadata": {
        "colab": {
          "base_uri": "https://localhost:8080/"
        },
        "id": "6C6t_B06YOzA",
        "outputId": "eca1f59d-df9d-4f9a-f9ee-be1ae382336d"
      },
      "outputs": [
        {
          "output_type": "stream",
          "name": "stdout",
          "text": [
            "Training samples: 16000, Testing samples: 4000\n"
          ]
        }
      ],
      "source": [
        "# ✅ Split the dataset\n",
        "X_train, X_test, y_train, y_test = train_test_split(X, y, test_size=0.2, random_state=42)\n",
        "\n",
        "print(f\"Training samples: {len(X_train)}, Testing samples: {len(X_test)}\")\n"
      ]
    },
    {
      "cell_type": "code",
      "execution_count": null,
      "metadata": {
        "id": "OBWhGGtCcbnY"
      },
      "outputs": [],
      "source": [
        "from sklearn.model_selection import train_test_split\n",
        "\n",
        "# Make sure dataset is loaded\n",
        "if 'X' not in locals():\n",
        "    print(\"Error: Dataset is not loaded. Run data loading cells first.\")\n",
        "else:\n",
        "    X_train, X_test, y_train, y_test = train_test_split(X, y, test_size=0.2, random_state=42)\n"
      ]
    },
    {
      "cell_type": "code",
      "execution_count": null,
      "metadata": {
        "id": "1aTRp0EonSRe"
      },
      "outputs": [],
      "source": [
        "# 🔹 Define the ImageDataGenerator for Data Augmentation\n",
        "datagen = ImageDataGenerator(\n",
        "    rescale=1./255,  # Normalize pixel values between 0 and 1\n",
        "    rotation_range=30,  # Random rotation between 0 and 30 degrees\n",
        "    width_shift_range=0.2,  # Random width shift\n",
        "    height_shift_range=0.2,  # Random height shift\n",
        "    shear_range=0.2,  # Shear transformations\n",
        "    zoom_range=0.2,  # Zoom transformations\n",
        "    horizontal_flip=True,  # Random horizontal flip\n",
        "    fill_mode='nearest'  # Fill missing pixels with nearest values\n",
        ")"
      ]
    },
    {
      "cell_type": "code",
      "execution_count": null,
      "metadata": {
        "colab": {
          "base_uri": "https://localhost:8080/"
        },
        "id": "6XyyanHUbWHi",
        "outputId": "43b7bad9-5d26-423e-e459-c785eb9c4de6"
      },
      "outputs": [
        {
          "name": "stdout",
          "output_type": "stream",
          "text": [
            "Reloading Tuner from hyperparameter_tuning_cnn/malaria_cnn/tuner0.json\n",
            "Best CNN Hyperparameters: <keras_tuner.src.engine.hyperparameters.hyperparameters.HyperParameters object at 0x7f4538d42a90>\n",
            "Epoch 1/20\n"
          ]
        },
        {
          "name": "stderr",
          "output_type": "stream",
          "text": [
            "/usr/local/lib/python3.11/dist-packages/keras/src/trainers/data_adapters/py_dataset_adapter.py:121: UserWarning: Your `PyDataset` class should call `super().__init__(**kwargs)` in its constructor. `**kwargs` can include `workers`, `use_multiprocessing`, `max_queue_size`. Do not pass these arguments to `fit()`, as they will be ignored.\n",
            "  self._warn_if_super_not_called()\n"
          ]
        },
        {
          "name": "stdout",
          "output_type": "stream",
          "text": [
            "\u001b[1m1000/1000\u001b[0m \u001b[32m━━━━━━━━━━━━━━━━━━━━\u001b[0m\u001b[37m\u001b[0m \u001b[1m0s\u001b[0m 1s/step - accuracy: 0.6740 - loss: 1.8694"
          ]
        },
        {
          "name": "stderr",
          "output_type": "stream",
          "text": [
            "WARNING:absl:You are saving your model as an HDF5 file via `model.save()` or `keras.saving.save_model(model)`. This file format is considered legacy. We recommend using instead the native Keras format, e.g. `model.save('my_model.keras')` or `keras.saving.save_model(model, 'my_model.keras')`. \n"
          ]
        },
        {
          "name": "stdout",
          "output_type": "stream",
          "text": [
            "\b\b\b\b\b\b\b\b\b\b\b\b\b\b\b\b\b\b\b\b\b\b\b\b\b\b\b\b\b\b\b\b\b\b\b\b\b\b\b\b\b\b\b\b\b\b\b\b\b\b\b\b\b\b\b\b\b\b\b\b\b\b\b\b\b\b\b\b\b\b\b\b\b\b\b\r\u001b[1m1000/1000\u001b[0m \u001b[32m━━━━━━━━━━━━━━━━━━━━\u001b[0m\u001b[37m\u001b[0m \u001b[1m1405s\u001b[0m 1s/step - accuracy: 0.6741 - loss: 1.8685 - val_accuracy: 0.8988 - val_loss: 17.1583\n",
            "Epoch 2/20\n",
            "\u001b[1m1000/1000\u001b[0m \u001b[32m━━━━━━━━━━━━━━━━━━━━\u001b[0m\u001b[37m\u001b[0m \u001b[1m0s\u001b[0m 1s/step - accuracy: 0.9110 - loss: 0.2959"
          ]
        },
        {
          "name": "stderr",
          "output_type": "stream",
          "text": [
            "WARNING:absl:You are saving your model as an HDF5 file via `model.save()` or `keras.saving.save_model(model)`. This file format is considered legacy. We recommend using instead the native Keras format, e.g. `model.save('my_model.keras')` or `keras.saving.save_model(model, 'my_model.keras')`. \n"
          ]
        },
        {
          "name": "stdout",
          "output_type": "stream",
          "text": [
            "\b\b\b\b\b\b\b\b\b\b\b\b\b\b\b\b\b\b\b\b\b\b\b\b\b\b\b\b\b\b\b\b\b\b\b\b\b\b\b\b\b\b\b\b\b\b\b\b\b\b\b\b\b\b\b\b\b\b\b\b\b\b\b\b\b\b\b\b\b\b\b\b\b\b\b\r\u001b[1m1000/1000\u001b[0m \u001b[32m━━━━━━━━━━━━━━━━━━━━\u001b[0m\u001b[37m\u001b[0m \u001b[1m1356s\u001b[0m 1s/step - accuracy: 0.9110 - loss: 0.2959 - val_accuracy: 0.9455 - val_loss: 11.3731\n",
            "Epoch 3/20\n",
            "\u001b[1m1000/1000\u001b[0m \u001b[32m━━━━━━━━━━━━━━━━━━━━\u001b[0m\u001b[37m\u001b[0m \u001b[1m1322s\u001b[0m 1s/step - accuracy: 0.9165 - loss: 0.2741 - val_accuracy: 0.8560 - val_loss: 15.8141\n",
            "Epoch 4/20\n",
            "\u001b[1m1000/1000\u001b[0m \u001b[32m━━━━━━━━━━━━━━━━━━━━\u001b[0m\u001b[37m\u001b[0m \u001b[1m1336s\u001b[0m 1s/step - accuracy: 0.9184 - loss: 0.2696 - val_accuracy: 0.8245 - val_loss: 23.2464\n",
            "Epoch 5/20\n",
            "\u001b[1m1000/1000\u001b[0m \u001b[32m━━━━━━━━━━━━━━━━━━━━\u001b[0m\u001b[37m\u001b[0m \u001b[1m1361s\u001b[0m 1s/step - accuracy: 0.9234 - loss: 0.2578 - val_accuracy: 0.9452 - val_loss: 28.5684\n",
            "Epoch 6/20\n",
            "\u001b[1m1000/1000\u001b[0m \u001b[32m━━━━━━━━━━━━━━━━━━━━\u001b[0m\u001b[37m\u001b[0m \u001b[1m1343s\u001b[0m 1s/step - accuracy: 0.9200 - loss: 0.2642 - val_accuracy: 0.9270 - val_loss: 36.1677\n",
            "Epoch 7/20\n",
            "\u001b[1m1000/1000\u001b[0m \u001b[32m━━━━━━━━━━━━━━━━━━━━\u001b[0m\u001b[37m\u001b[0m \u001b[1m1337s\u001b[0m 1s/step - accuracy: 0.9218 - loss: 0.2651 - val_accuracy: 0.7653 - val_loss: 221.2051\n"
          ]
        },
        {
          "data": {
            "text/plain": [
              "<keras.src.callbacks.history.History at 0x7f4538e02290>"
            ]
          },
          "execution_count": 10,
          "metadata": {},
          "output_type": "execute_result"
        }
      ],
      "source": [
        "from tensorflow.keras.regularizers import l2\n",
        "from tensorflow.keras.callbacks import ModelCheckpoint, EarlyStopping\n",
        "from sklearn.utils.class_weight import compute_class_weight\n",
        "import numpy as np\n",
        "import tensorflow as tf\n",
        "from tensorflow.keras.preprocessing.image import ImageDataGenerator\n",
        "from tensorflow.keras.optimizers import Adam\n",
        "from tensorflow.keras.models import Sequential\n",
        "import keras_tuner as kt\n",
        "from tensorflow.keras.layers import Conv2D, BatchNormalization, LeakyReLU, MaxPooling2D, Dropout, Flatten, Dense, Input\n",
        "\n",
        "# ✅ Hyperparameter tuning for CNN (Keras Tuner)\n",
        "def build_cnn(hp):\n",
        "    model = Sequential()\n",
        "    model.add(Input(shape=(128, 128, 3)))  # Explicit input layer\n",
        "    # Convolutional layers with hyperparameters\n",
        "    for i in range(hp.Int('num_conv_layers', 2, 5)):  # Tunable number of convolution layers\n",
        "        model.add(Conv2D(\n",
        "            filters=hp.Int(f'filters_{i}', 64, 256, step=64),  # Tunable filters\n",
        "            kernel_size=(3, 3),  # Kernel size fixed to (3,3)\n",
        "            activation=None  # Activation function defined after Conv2D\n",
        "        ))\n",
        "        model.add(BatchNormalization())\n",
        "        model.add(LeakyReLU())  # Using LeakyReLU activation\n",
        "        model.add(MaxPooling2D(2, 2))  # Max pooling with a 2x2 window\n",
        "        model.add(Dropout(rate=hp.Float('conv_dropout_rate', 0.2, 0.5, step=0.1)))  # Tunable dropout rate\n",
        "    # Dense layer\n",
        "    model.add(Flatten())\n",
        "    model.add(Dense(units=hp.Int('dense_units', 256, 1024, step=256), activation='relu', kernel_regularizer=l2(0.01)))  # Dense layer with L2 regularization\n",
        "    model.add(Dropout(rate=hp.Float('dropout_rate', 0.3, 0.7, step=0.1)))  # Tunable dropout for the dense layer\n",
        "    model.add(Dense(1, activation='sigmoid'))  # Output layer for binary classification\n",
        "    # Learning rate tuner\n",
        "    learning_rate = hp.Choice('learning_rate', values=[1e-3, 1e-4, 1e-5])  # Tunable learning rate choices\n",
        "    optimizer = Adam(learning_rate=learning_rate)  # Adam optimizer with tunable learning rate\n",
        "    model.compile(\n",
        "        optimizer=optimizer,\n",
        "        loss='binary_crossentropy',  # Binary classification loss function\n",
        "        metrics=['accuracy']  # Monitoring accuracy\n",
        "    )\n",
        "    return model\n",
        "\n",
        "# 🔹 Calculate class weights (in case of class imbalance)\n",
        "class_weights = compute_class_weight('balanced', classes=np.unique(y_train), y=y_train)\n",
        "class_weights = {0: class_weights[0], 1: class_weights[1]}\n",
        "\n",
        "# Initialize the Keras Tuner\n",
        "cnn_tuner = kt.RandomSearch(\n",
        "    build_cnn,\n",
        "    objective='val_accuracy',\n",
        "    max_trials=5,  # Number of hyperparameter combinations to try\n",
        "    executions_per_trial=1,  # Number of models to train per trial\n",
        "    directory='hyperparameter_tuning_cnn',\n",
        "    project_name='malaria_cnn'\n",
        ")\n",
        "\n",
        "# 🔹 Perform hyperparameter tuning for CNN\n",
        "cnn_tuner.search(datagen.flow(X_train, y_train, batch_size=16), epochs=10,\n",
        "                 validation_data=(X_test, y_test), class_weight=class_weights)\n",
        "\n",
        "# Free up memory after hyperparameter tuning\n",
        "tf.keras.backend.clear_session()\n",
        "\n",
        "# 🔹 Get the best hyperparameters for CNN\n",
        "best_cnn_hps = cnn_tuner.get_best_hyperparameters(num_trials=1)[0]\n",
        "print(f\"Best CNN Hyperparameters: {best_cnn_hps}\")\n",
        "\n",
        "# 🔹 Build the CNN model with the best hyperparameters\n",
        "best_cnn = cnn_tuner.hypermodel.build(best_cnn_hps)\n",
        "\n",
        "# 🔹 Add Checkpoint Callback to Save Model Progress\n",
        "checkpoint_path = \"/content/drive/MyDrive/best_cnn_model.h5\"\n",
        "checkpoint_callback = ModelCheckpoint(filepath=checkpoint_path,\n",
        "                                      save_best_only=True,\n",
        "                                      monitor='val_loss',\n",
        "                                      mode='min')\n",
        "\n",
        "# 🔹 Train the best CNN model with checkpointing and early stopping\n",
        "early_stopping = EarlyStopping(monitor='val_loss', patience=5, restore_best_weights=True)\n",
        "\n",
        "best_cnn.fit(datagen.flow(X_train, y_train, batch_size=16),\n",
        "             epochs=20,\n",
        "             validation_data=(X_test, y_test),\n",
        "             class_weight=class_weights,\n",
        "             callbacks=[checkpoint_callback, early_stopping])  # Adding early stopping\n"
      ]
    },
    {
      "cell_type": "code",
      "execution_count": null,
      "metadata": {
        "colab": {
          "base_uri": "https://localhost:8080/"
        },
        "id": "Jdd1YYBbX7oz",
        "outputId": "770ebd46-dba4-4e99-939f-0e36d5c52a4b"
      },
      "outputs": [
        {
          "data": {
            "text/plain": [
              "['gnb_model.pkl']"
            ]
          },
          "execution_count": 9,
          "metadata": {},
          "output_type": "execute_result"
        }
      ],
      "source": [
        "from sklearn.naive_bayes import GaussianNB\n",
        "import joblib\n",
        "\n",
        "# ✅ Define GNB\n",
        "gnb = GaussianNB()\n",
        "\n",
        "# ✅ Train GNB\n",
        "gnb.fit(X_train.reshape(X_train.shape[0], -1), y_train)\n",
        "\n",
        "# ✅ Save the trained model to a file\n",
        "joblib.dump(gnb, 'gnb_model.pkl')  # Save the model to disk\n"
      ]
    },
    {
      "cell_type": "code",
      "execution_count": null,
      "metadata": {
        "colab": {
          "base_uri": "https://localhost:8080/"
        },
        "id": "RtFiUqNFbXHZ",
        "outputId": "1ba44a7d-b380-4313-c0fb-dd56f1680860"
      },
      "outputs": [
        {
          "name": "stdout",
          "output_type": "stream",
          "text": [
            "Reloading Tuner from hyperparameter_tuning_rcnn/malaria_rcnn/tuner0.json\n",
            "Best RCNN Hyperparameters: <keras_tuner.src.engine.hyperparameters.hyperparameters.HyperParameters object at 0x7f450b730090>\n"
          ]
        },
        {
          "name": "stderr",
          "output_type": "stream",
          "text": [
            "/usr/local/lib/python3.11/dist-packages/keras/src/layers/convolutional/base_conv.py:107: UserWarning: Do not pass an `input_shape`/`input_dim` argument to a layer. When using Sequential models, prefer using an `Input(shape)` object as the first layer in the model instead.\n",
            "  super().__init__(activity_regularizer=activity_regularizer, **kwargs)\n"
          ]
        },
        {
          "name": "stdout",
          "output_type": "stream",
          "text": [
            "Epoch 1/20\n"
          ]
        },
        {
          "name": "stderr",
          "output_type": "stream",
          "text": [
            "/usr/local/lib/python3.11/dist-packages/keras/src/trainers/data_adapters/py_dataset_adapter.py:121: UserWarning: Your `PyDataset` class should call `super().__init__(**kwargs)` in its constructor. `**kwargs` can include `workers`, `use_multiprocessing`, `max_queue_size`. Do not pass these arguments to `fit()`, as they will be ignored.\n",
            "  self._warn_if_super_not_called()\n"
          ]
        },
        {
          "name": "stdout",
          "output_type": "stream",
          "text": [
            "\u001b[1m1000/1000\u001b[0m \u001b[32m━━━━━━━━━━━━━━━━━━━━\u001b[0m\u001b[37m\u001b[0m \u001b[1m0s\u001b[0m 2s/step - accuracy: 0.5925 - loss: 6.1811"
          ]
        },
        {
          "name": "stderr",
          "output_type": "stream",
          "text": [
            "WARNING:absl:You are saving your model as an HDF5 file via `model.save()` or `keras.saving.save_model(model)`. This file format is considered legacy. We recommend using instead the native Keras format, e.g. `model.save('my_model.keras')` or `keras.saving.save_model(model, 'my_model.keras')`. \n"
          ]
        },
        {
          "name": "stdout",
          "output_type": "stream",
          "text": [
            "\u001b[1m1000/1000\u001b[0m \u001b[32m━━━━━━━━━━━━━━━━━━━━\u001b[0m\u001b[37m\u001b[0m \u001b[1m2458s\u001b[0m 2s/step - accuracy: 0.5925 - loss: 6.1776 - val_accuracy: 0.7035 - val_loss: 60.0448\n",
            "Epoch 2/20\n",
            "\u001b[1m1000/1000\u001b[0m \u001b[32m━━━━━━━━━━━━━━━━━━━━\u001b[0m\u001b[37m\u001b[0m \u001b[1m2542s\u001b[0m 3s/step - accuracy: 0.7233 - loss: 0.7104 - val_accuracy: 0.5238 - val_loss: 66.9299\n",
            "Epoch 3/20\n",
            "\u001b[1m1000/1000\u001b[0m \u001b[32m━━━━━━━━━━━━━━━━━━━━\u001b[0m\u001b[37m\u001b[0m \u001b[1m0s\u001b[0m 3s/step - accuracy: 0.8490 - loss: 0.6294"
          ]
        },
        {
          "name": "stderr",
          "output_type": "stream",
          "text": [
            "WARNING:absl:You are saving your model as an HDF5 file via `model.save()` or `keras.saving.save_model(model)`. This file format is considered legacy. We recommend using instead the native Keras format, e.g. `model.save('my_model.keras')` or `keras.saving.save_model(model, 'my_model.keras')`. \n"
          ]
        },
        {
          "name": "stdout",
          "output_type": "stream",
          "text": [
            "\u001b[1m1000/1000\u001b[0m \u001b[32m━━━━━━━━━━━━━━━━━━━━\u001b[0m\u001b[37m\u001b[0m \u001b[1m2621s\u001b[0m 3s/step - accuracy: 0.8490 - loss: 0.6294 - val_accuracy: 0.6050 - val_loss: 39.6133\n",
            "Epoch 4/20\n",
            "\u001b[1m1000/1000\u001b[0m \u001b[32m━━━━━━━━━━━━━━━━━━━━\u001b[0m\u001b[37m\u001b[0m \u001b[1m0s\u001b[0m 2s/step - accuracy: 0.8667 - loss: 0.5880"
          ]
        },
        {
          "name": "stderr",
          "output_type": "stream",
          "text": [
            "WARNING:absl:You are saving your model as an HDF5 file via `model.save()` or `keras.saving.save_model(model)`. This file format is considered legacy. We recommend using instead the native Keras format, e.g. `model.save('my_model.keras')` or `keras.saving.save_model(model, 'my_model.keras')`. \n"
          ]
        },
        {
          "name": "stdout",
          "output_type": "stream",
          "text": [
            "\u001b[1m1000/1000\u001b[0m \u001b[32m━━━━━━━━━━━━━━━━━━━━\u001b[0m\u001b[37m\u001b[0m \u001b[1m2594s\u001b[0m 3s/step - accuracy: 0.8667 - loss: 0.5880 - val_accuracy: 0.8528 - val_loss: 39.5828\n",
            "Epoch 5/20\n",
            "\u001b[1m1000/1000\u001b[0m \u001b[32m━━━━━━━━━━━━━━━━━━━━\u001b[0m\u001b[37m\u001b[0m \u001b[1m2470s\u001b[0m 2s/step - accuracy: 0.8776 - loss: 0.5637 - val_accuracy: 0.5107 - val_loss: 81.6997\n",
            "Epoch 6/20\n",
            "\u001b[1m1000/1000\u001b[0m \u001b[32m━━━━━━━━━━━━━━━━━━━━\u001b[0m\u001b[37m\u001b[0m \u001b[1m2485s\u001b[0m 2s/step - accuracy: 0.8806 - loss: 0.5648 - val_accuracy: 0.7818 - val_loss: 61.9217\n",
            "Epoch 7/20\n",
            "\u001b[1m1000/1000\u001b[0m \u001b[32m━━━━━━━━━━━━━━━━━━━━\u001b[0m\u001b[37m\u001b[0m \u001b[1m0s\u001b[0m 2s/step - accuracy: 0.8823 - loss: 0.5624"
          ]
        },
        {
          "name": "stderr",
          "output_type": "stream",
          "text": [
            "WARNING:absl:You are saving your model as an HDF5 file via `model.save()` or `keras.saving.save_model(model)`. This file format is considered legacy. We recommend using instead the native Keras format, e.g. `model.save('my_model.keras')` or `keras.saving.save_model(model, 'my_model.keras')`. \n"
          ]
        },
        {
          "name": "stdout",
          "output_type": "stream",
          "text": [
            "\u001b[1m1000/1000\u001b[0m \u001b[32m━━━━━━━━━━━━━━━━━━━━\u001b[0m\u001b[37m\u001b[0m \u001b[1m2580s\u001b[0m 3s/step - accuracy: 0.8823 - loss: 0.5624 - val_accuracy: 0.8110 - val_loss: 20.5716\n",
            "Epoch 8/20\n",
            "\u001b[1m1000/1000\u001b[0m \u001b[32m━━━━━━━━━━━━━━━━━━━━\u001b[0m\u001b[37m\u001b[0m \u001b[1m2548s\u001b[0m 3s/step - accuracy: 0.8927 - loss: 0.5422 - val_accuracy: 0.5178 - val_loss: 78.2660\n",
            "Epoch 9/20\n",
            "\u001b[1m1000/1000\u001b[0m \u001b[32m━━━━━━━━━━━━━━━━━━━━\u001b[0m\u001b[37m\u001b[0m \u001b[1m2561s\u001b[0m 3s/step - accuracy: 0.8895 - loss: 0.5448 - val_accuracy: 0.8658 - val_loss: 33.7772\n",
            "Epoch 10/20\n",
            "\u001b[1m1000/1000\u001b[0m \u001b[32m━━━━━━━━━━━━━━━━━━━━\u001b[0m\u001b[37m\u001b[0m \u001b[1m2605s\u001b[0m 3s/step - accuracy: 0.8885 - loss: 0.5575 - val_accuracy: 0.8167 - val_loss: 20.9698\n",
            "Epoch 11/20\n",
            "\u001b[1m1000/1000\u001b[0m \u001b[32m━━━━━━━━━━━━━━━━━━━━\u001b[0m\u001b[37m\u001b[0m \u001b[1m2586s\u001b[0m 3s/step - accuracy: 0.8878 - loss: 0.5573 - val_accuracy: 0.8997 - val_loss: 32.8197\n",
            "Epoch 12/20\n",
            "\u001b[1m1000/1000\u001b[0m \u001b[32m━━━━━━━━━━━━━━━━━━━━\u001b[0m\u001b[37m\u001b[0m \u001b[1m2578s\u001b[0m 3s/step - accuracy: 0.8920 - loss: 0.5427 - val_accuracy: 0.8982 - val_loss: 32.0532\n"
          ]
        },
        {
          "data": {
            "text/plain": [
              "<keras.src.callbacks.history.History at 0x7f45087dd8d0>"
            ]
          },
          "execution_count": 11,
          "metadata": {},
          "output_type": "execute_result"
        }
      ],
      "source": [
        "from tensorflow.keras.layers import Conv2D, BatchNormalization, LeakyReLU, MaxPooling2D, Flatten, Dense, Dropout\n",
        "from tensorflow.keras.regularizers import l2\n",
        "from tensorflow.keras.optimizers import Adam\n",
        "from tensorflow.keras.callbacks import ModelCheckpoint, EarlyStopping\n",
        "import numpy as np\n",
        "import tensorflow as tf\n",
        "from sklearn.utils.class_weight import compute_class_weight\n",
        "from tensorflow.keras.preprocessing.image import ImageDataGenerator\n",
        "import keras_tuner as kt\n",
        "from tensorflow.keras.models import Sequential\n",
        "\n",
        "# ✅ RCNN Model Build Function (with optimizer parameter)\n",
        "def build_rcnn(hp):\n",
        "    model = Sequential()\n",
        "    # Example RCNN architecture (modify based on your actual design)\n",
        "    for i in range(hp.Int('num_conv_layers', 2, 5)):  # Variable number of convolution layers\n",
        "        model.add(Conv2D(\n",
        "            filters=hp.Int(f'filters_{i}', 64, 256, step=64),  # Tunable filters\n",
        "            kernel_size=(3, 3),  # Kernel size fixed to (3, 3)\n",
        "            activation=None,  # Activation function defined later\n",
        "            input_shape=(128, 128, 3) if i == 0 else None  # Input shape for the first layer only\n",
        "        ))\n",
        "        model.add(BatchNormalization())\n",
        "        model.add(LeakyReLU())  # LeakyReLU activation function\n",
        "        model.add(MaxPooling2D(2, 2))  # MaxPooling\n",
        "        model.add(Dropout(rate=hp.Float('conv_dropout_rate', 0.2, 0.5, step=0.1)))  # Tunable dropout\n",
        "    model.add(Flatten())  # Flatten layer for fully connected\n",
        "    model.add(Dense(units=hp.Int('dense_units', 256, 1024, step=256), activation='relu', kernel_regularizer=l2(0.01)))  # Dense layer with L2 regularization\n",
        "    model.add(Dropout(rate=hp.Float('dropout_rate', 0.3, 0.7, step=0.1)))  # Tunable dropout for dense layer\n",
        "    model.add(Dense(1, activation='sigmoid'))  # Output layer for binary classification\n",
        "    # Optimizer selection with tunable learning rate\n",
        "    learning_rate = hp.Choice('learning_rate', values=[1e-3, 1e-4, 1e-5])  # Tunable learning rate\n",
        "    optimizer = Adam(learning_rate=learning_rate)  # Adam optimizer\n",
        "    model.compile(\n",
        "        optimizer=optimizer,\n",
        "        loss='binary_crossentropy',  # Binary cross-entropy loss function\n",
        "        metrics=['accuracy']  # Monitoring accuracy\n",
        "    )\n",
        "    return model\n",
        "# ✅ Hyperparameter tuning for RCNN\n",
        "rcnn_tuner = kt.RandomSearch(\n",
        "    build_rcnn,\n",
        "    objective='val_accuracy',\n",
        "    max_trials=5,\n",
        "    executions_per_trial=1,\n",
        "    directory='hyperparameter_tuning_rcnn',\n",
        "    project_name='malaria_rcnn'\n",
        ")\n",
        "\n",
        "# 🔹 Calculate class weights (in case of class imbalance)\n",
        "class_weights = compute_class_weight('balanced', classes=np.unique(y_train), y=y_train)\n",
        "class_weights = {0: class_weights[0], 1: class_weights[1]}\n",
        "\n",
        "# 🔹 Perform hyperparameter tuning for RCNN (fix the tuner reference to rcnn_tuner)\n",
        "rcnn_tuner.search(datagen.flow(X_train, y_train, batch_size=16), epochs=10,\n",
        "                  validation_data=(X_test, y_test), class_weight=class_weights)\n",
        "\n",
        "# Free up memory after hyperparameter tuning\n",
        "tf.keras.backend.clear_session()\n",
        "\n",
        "# 🔹 Get the best hyperparameters for RCNN\n",
        "best_rcnn_hps = rcnn_tuner.get_best_hyperparameters(num_trials=1)[0]\n",
        "print(f\"Best RCNN Hyperparameters: {best_rcnn_hps}\")\n",
        "\n",
        "# 🔹 Build the RCNN model with the best hyperparameters\n",
        "best_rcnn = rcnn_tuner.hypermodel.build(best_rcnn_hps)\n",
        "\n",
        "# 🔹 Add Checkpoint Callback to Save Model Progress\n",
        "checkpoint_path = \"/content/drive/MyDrive/best_rcnn_model.h5\"\n",
        "checkpoint_callback = ModelCheckpoint(filepath=checkpoint_path,\n",
        "                                      save_best_only=True,\n",
        "                                      monitor='val_loss',\n",
        "                                      mode='min')\n",
        "\n",
        "# 🔹 Train the best RCNN model with checkpointing and early stopping\n",
        "early_stopping = EarlyStopping(monitor='val_loss', patience=5, restore_best_weights=True)\n",
        "\n",
        "best_rcnn.fit(datagen.flow(X_train, y_train, batch_size=16),\n",
        "              epochs=20,\n",
        "              validation_data=(X_test, y_test),\n",
        "              class_weight=class_weights,\n",
        "              callbacks=[checkpoint_callback, early_stopping])  # Adding early stopping\n"
      ]
    },
    {
      "cell_type": "code",
      "execution_count": null,
      "metadata": {
        "colab": {
          "base_uri": "https://localhost:8080/",
          "height": 596
        },
        "id": "69VoYq3BbaTs",
        "outputId": "1a0ce7fa-455f-4cd0-b052-124b72a36f05"
      },
      "outputs": [
        {
          "name": "stdout",
          "output_type": "stream",
          "text": [
            "Requirement already satisfied: keras-tuner in /usr/local/lib/python3.11/dist-packages (1.4.7)\n",
            "Requirement already satisfied: keras in /usr/local/lib/python3.11/dist-packages (from keras-tuner) (3.8.0)\n",
            "Requirement already satisfied: packaging in /usr/local/lib/python3.11/dist-packages (from keras-tuner) (24.2)\n",
            "Requirement already satisfied: requests in /usr/local/lib/python3.11/dist-packages (from keras-tuner) (2.32.3)\n",
            "Requirement already satisfied: kt-legacy in /usr/local/lib/python3.11/dist-packages (from keras-tuner) (1.0.5)\n",
            "Requirement already satisfied: absl-py in /usr/local/lib/python3.11/dist-packages (from keras->keras-tuner) (1.4.0)\n",
            "Requirement already satisfied: numpy in /usr/local/lib/python3.11/dist-packages (from keras->keras-tuner) (2.0.2)\n",
            "Requirement already satisfied: rich in /usr/local/lib/python3.11/dist-packages (from keras->keras-tuner) (13.9.4)\n",
            "Requirement already satisfied: namex in /usr/local/lib/python3.11/dist-packages (from keras->keras-tuner) (0.0.8)\n",
            "Requirement already satisfied: h5py in /usr/local/lib/python3.11/dist-packages (from keras->keras-tuner) (3.13.0)\n",
            "Requirement already satisfied: optree in /usr/local/lib/python3.11/dist-packages (from keras->keras-tuner) (0.14.1)\n",
            "Requirement already satisfied: ml-dtypes in /usr/local/lib/python3.11/dist-packages (from keras->keras-tuner) (0.4.1)\n",
            "Requirement already satisfied: charset-normalizer<4,>=2 in /usr/local/lib/python3.11/dist-packages (from requests->keras-tuner) (3.4.1)\n",
            "Requirement already satisfied: idna<4,>=2.5 in /usr/local/lib/python3.11/dist-packages (from requests->keras-tuner) (3.10)\n",
            "Requirement already satisfied: urllib3<3,>=1.21.1 in /usr/local/lib/python3.11/dist-packages (from requests->keras-tuner) (2.3.0)\n",
            "Requirement already satisfied: certifi>=2017.4.17 in /usr/local/lib/python3.11/dist-packages (from requests->keras-tuner) (2025.1.31)\n",
            "Requirement already satisfied: typing-extensions>=4.5.0 in /usr/local/lib/python3.11/dist-packages (from optree->keras->keras-tuner) (4.12.2)\n",
            "Requirement already satisfied: markdown-it-py>=2.2.0 in /usr/local/lib/python3.11/dist-packages (from rich->keras->keras-tuner) (3.0.0)\n",
            "Requirement already satisfied: pygments<3.0.0,>=2.13.0 in /usr/local/lib/python3.11/dist-packages (from rich->keras->keras-tuner) (2.18.0)\n",
            "Requirement already satisfied: mdurl~=0.1 in /usr/local/lib/python3.11/dist-packages (from markdown-it-py>=2.2.0->rich->keras->keras-tuner) (0.1.2)\n"
          ]
        },
        {
          "ename": "NameError",
          "evalue": "name 'y_train' is not defined",
          "output_type": "error",
          "traceback": [
            "\u001b[0;31m---------------------------------------------------------------------------\u001b[0m",
            "\u001b[0;31mNameError\u001b[0m                                 Traceback (most recent call last)",
            "\u001b[0;32m<ipython-input-9-421c2d7afb53>\u001b[0m in \u001b[0;36m<cell line: 0>\u001b[0;34m()\u001b[0m\n\u001b[1;32m     48\u001b[0m \u001b[0;34m\u001b[0m\u001b[0m\n\u001b[1;32m     49\u001b[0m \u001b[0;31m# Calculate class weights to handle class imbalance\u001b[0m\u001b[0;34m\u001b[0m\u001b[0;34m\u001b[0m\u001b[0m\n\u001b[0;32m---> 50\u001b[0;31m \u001b[0mclass_weights\u001b[0m \u001b[0;34m=\u001b[0m \u001b[0mcompute_class_weight\u001b[0m\u001b[0;34m(\u001b[0m\u001b[0;34m'balanced'\u001b[0m\u001b[0;34m,\u001b[0m \u001b[0mclasses\u001b[0m\u001b[0;34m=\u001b[0m\u001b[0mnp\u001b[0m\u001b[0;34m.\u001b[0m\u001b[0munique\u001b[0m\u001b[0;34m(\u001b[0m\u001b[0my_train\u001b[0m\u001b[0;34m)\u001b[0m\u001b[0;34m,\u001b[0m \u001b[0my\u001b[0m\u001b[0;34m=\u001b[0m\u001b[0my_train\u001b[0m\u001b[0;34m)\u001b[0m\u001b[0;34m\u001b[0m\u001b[0;34m\u001b[0m\u001b[0m\n\u001b[0m\u001b[1;32m     51\u001b[0m \u001b[0mclass_weights\u001b[0m \u001b[0;34m=\u001b[0m \u001b[0;34m{\u001b[0m\u001b[0;36m0\u001b[0m\u001b[0;34m:\u001b[0m \u001b[0mclass_weights\u001b[0m\u001b[0;34m[\u001b[0m\u001b[0;36m0\u001b[0m\u001b[0;34m]\u001b[0m\u001b[0;34m,\u001b[0m \u001b[0;36m1\u001b[0m\u001b[0;34m:\u001b[0m \u001b[0mclass_weights\u001b[0m\u001b[0;34m[\u001b[0m\u001b[0;36m1\u001b[0m\u001b[0;34m]\u001b[0m\u001b[0;34m}\u001b[0m\u001b[0;34m\u001b[0m\u001b[0;34m\u001b[0m\u001b[0m\n\u001b[1;32m     52\u001b[0m \u001b[0;34m\u001b[0m\u001b[0m\n",
            "\u001b[0;31mNameError\u001b[0m: name 'y_train' is not defined"
          ]
        }
      ],
      "source": [
        "# Install Keras Tuner (if not already installed)\n",
        "!pip install keras-tuner\n",
        "from tensorflow.keras.applications import ResNet50\n",
        "from tensorflow.keras.optimizers import Adam\n",
        "from tensorflow.keras.models import Sequential\n",
        "from tensorflow.keras.layers import Flatten, Dense, Dropout\n",
        "import keras_tuner as kt\n",
        "import tensorflow as tf\n",
        "import numpy as np\n",
        "from sklearn.utils.class_weight import compute_class_weight\n",
        "from tensorflow.keras.callbacks import ModelCheckpoint, EarlyStopping\n",
        "from tensorflow.keras.preprocessing.image import ImageDataGenerator\n",
        "\n",
        "# Define the ImageDataGenerator for preprocessing and augmentation\n",
        "datagen = ImageDataGenerator(\n",
        "    rescale=1./255,  # Rescale pixel values to range [0, 1]\n",
        "    rotation_range=20,  # Randomly rotate images\n",
        "    width_shift_range=0.2,  # Randomly shift images horizontally\n",
        "    height_shift_range=0.2,  # Randomly shift images vertically\n",
        "    shear_range=0.2,  # Shear transformations\n",
        "    zoom_range=0.2,  # Random zoom\n",
        "    horizontal_flip=True,  # Randomly flip images horizontally\n",
        "    fill_mode='nearest'  # Fill in newly created pixels after transformations\n",
        ")\n",
        "\n",
        "# ✅ Define the Transfer Learning model\n",
        "def build_transfer_model(hp):\n",
        "    base_model = ResNet50(weights='imagenet', include_top=False, input_shape=(128, 128, 3))\n",
        "    # Unfreeze the last few layers\n",
        "    for layer in base_model.layers[-10:]:\n",
        "        layer.trainable = True\n",
        "\n",
        "    model = Sequential([\n",
        "        base_model,\n",
        "        Flatten(),\n",
        "        Dense(units=hp.Int('dense_units', min_value=256, max_value=1024, step=256), activation='relu'),  # ✅ Tunable Dense Layer\n",
        "        Dropout(rate=hp.Float('dropout_rate', min_value=0.3, max_value=0.7, step=0.1)),  # ✅ Tunable Dropout\n",
        "        Dense(1, activation='sigmoid')\n",
        "    ])\n",
        "\n",
        "    # ✅ Tunable Learning Rate\n",
        "    learning_rate = hp.Choice('learning_rate', values=[1e-3, 1e-4, 1e-5])\n",
        "    optimizer = Adam(learning_rate=learning_rate)\n",
        "    model.compile(optimizer=optimizer, loss='binary_crossentropy', metrics=['accuracy'])\n",
        "    return model\n",
        "# Calculate class weights to handle class imbalance\n",
        "class_weights = compute_class_weight('balanced', classes=np.unique(y_train), y=y_train)\n",
        "class_weights = {0: class_weights[0], 1: class_weights[1]}\n",
        "# Free up memory before starting hyperparameter tuning\n",
        "tf.keras.backend.clear_session()\n",
        "# Add Checkpoint callback to save model progress\n",
        "checkpoint_callback = ModelCheckpoint(\n",
        "    'best_model.h5',  # File path to save the model\n",
        "    monitor='val_loss',  # Monitor validation loss\n",
        "    save_best_only=True,  # Save only the best model\n",
        "    mode='min',  # Minimize validation loss\n",
        "    verbose=1\n",
        ")\n",
        "\n",
        "# Add EarlyStopping callback to stop training when validation loss stops improving\n",
        "early_stopping_callback = EarlyStopping(\n",
        "    monitor='val_loss',  # Monitor validation loss\n",
        "    patience=3,  # Stop after 3 epochs with no improvement\n",
        "    mode='min',  # Minimize validation loss\n",
        "    verbose=1\n",
        ")\n",
        "\n",
        "# Perform hyperparameter tuning\n",
        "transfer_tuner = kt.RandomSearch(\n",
        "    build_transfer_model,\n",
        "    objective='val_accuracy',\n",
        "    max_trials=5,\n",
        "    executions_per_trial=1,\n",
        "    directory='hyperparameter_tuning_transfer',\n",
        "    project_name='malaria_transfer'\n",
        ")\n",
        "\n",
        "# Perform hyperparameter tuning for Transfer Learning\n",
        "transfer_tuner.search(\n",
        "    datagen.flow(X_train, y_train, batch_size=16),\n",
        "    epochs=10,\n",
        "    validation_data=(X_test, y_test),\n",
        "    class_weight=class_weights,\n",
        "    callbacks=[checkpoint_callback, early_stopping_callback]  # Add callbacks to tuning\n",
        ")\n",
        "\n",
        "# Free up memory after hyperparameter tuning\n",
        "tf.keras.backend.clear_session()\n",
        "\n",
        "# Get the best hyperparameters for the Transfer Learning model\n",
        "best_transfer_hps = transfer_tuner.get_best_hyperparameters(num_trials=1)[0]\n",
        "print(f\"Best Transfer Learning Hyperparameters: {best_transfer_hps}\")\n",
        "\n",
        "# Build the Transfer Learning model with the best hyperparameters\n",
        "best_transfer_model = transfer_tuner.hypermodel.build(best_transfer_hps)\n",
        "\n",
        "# Train the best Transfer Learning model with callbacks\n",
        "best_transfer_model.fit(\n",
        "    datagen.flow(X_train, y_train, batch_size=16),\n",
        "    epochs=20,\n",
        "    validation_data=(X_test, y_test),\n",
        "    class_weight=class_weights,\n",
        "    callbacks=[checkpoint_callback, early_stopping_callback]  # Add callbacks to training\n",
        ")"
      ]
    },
    {
      "cell_type": "code",
      "source": [
        "transfer_model.save('/content/drive/MyDrive/best_transfer_model.h5')\n"
      ],
      "metadata": {
        "colab": {
          "base_uri": "https://localhost:8080/"
        },
        "id": "b6BvGR2KMDwO",
        "outputId": "ce72921a-6015-4d35-cff6-c7b0f4f79095",
        "collapsed": true
      },
      "execution_count": null,
      "outputs": [
        {
          "output_type": "stream",
          "name": "stderr",
          "text": [
            "WARNING:absl:You are saving your model as an HDF5 file via `model.save()` or `keras.saving.save_model(model)`. This file format is considered legacy. We recommend using instead the native Keras format, e.g. `model.save('my_model.keras')` or `keras.saving.save_model(model, 'my_model.keras')`. \n"
          ]
        }
      ]
    },
    {
      "cell_type": "code",
      "source": [
        "from tensorflow.keras.models import load_model\n",
        "transfer_model = load_model('/content/drive/MyDrive/best_transfer_model.h5')\n",
        "print(\"tranfer model loaded successfully\")\n"
      ],
      "metadata": {
        "colab": {
          "base_uri": "https://localhost:8080/"
        },
        "id": "M1xXINMyMIwe",
        "outputId": "b516f444-4507-4b6e-e60b-5aefb5b12f3f",
        "collapsed": true
      },
      "execution_count": null,
      "outputs": [
        {
          "output_type": "stream",
          "name": "stderr",
          "text": [
            "WARNING:absl:Compiled the loaded model, but the compiled metrics have yet to be built. `model.compile_metrics` will be empty until you train or evaluate the model.\n"
          ]
        },
        {
          "output_type": "stream",
          "name": "stdout",
          "text": [
            "tranfer model loaded successfully\n"
          ]
        }
      ]
    },
    {
      "cell_type": "code",
      "execution_count": null,
      "metadata": {
        "colab": {
          "base_uri": "https://localhost:8080/"
        },
        "id": "SKEUU_Y6DYUu",
        "outputId": "8f8f7e07-3755-4fd9-ecf6-cce91f10e935"
      },
      "outputs": [
        {
          "output_type": "stream",
          "name": "stdout",
          "text": [
            "Requirement already satisfied: keras-tuner in /usr/local/lib/python3.11/dist-packages (1.4.7)\n",
            "Requirement already satisfied: keras in /usr/local/lib/python3.11/dist-packages (from keras-tuner) (3.8.0)\n",
            "Requirement already satisfied: packaging in /usr/local/lib/python3.11/dist-packages (from keras-tuner) (24.2)\n",
            "Requirement already satisfied: requests in /usr/local/lib/python3.11/dist-packages (from keras-tuner) (2.32.3)\n",
            "Requirement already satisfied: kt-legacy in /usr/local/lib/python3.11/dist-packages (from keras-tuner) (1.0.5)\n",
            "Requirement already satisfied: absl-py in /usr/local/lib/python3.11/dist-packages (from keras->keras-tuner) (1.4.0)\n",
            "Requirement already satisfied: numpy in /usr/local/lib/python3.11/dist-packages (from keras->keras-tuner) (2.0.2)\n",
            "Requirement already satisfied: rich in /usr/local/lib/python3.11/dist-packages (from keras->keras-tuner) (13.9.4)\n",
            "Requirement already satisfied: namex in /usr/local/lib/python3.11/dist-packages (from keras->keras-tuner) (0.0.8)\n",
            "Requirement already satisfied: h5py in /usr/local/lib/python3.11/dist-packages (from keras->keras-tuner) (3.13.0)\n",
            "Requirement already satisfied: optree in /usr/local/lib/python3.11/dist-packages (from keras->keras-tuner) (0.14.1)\n",
            "Requirement already satisfied: ml-dtypes in /usr/local/lib/python3.11/dist-packages (from keras->keras-tuner) (0.4.1)\n",
            "Requirement already satisfied: charset-normalizer<4,>=2 in /usr/local/lib/python3.11/dist-packages (from requests->keras-tuner) (3.4.1)\n",
            "Requirement already satisfied: idna<4,>=2.5 in /usr/local/lib/python3.11/dist-packages (from requests->keras-tuner) (3.10)\n",
            "Requirement already satisfied: urllib3<3,>=1.21.1 in /usr/local/lib/python3.11/dist-packages (from requests->keras-tuner) (2.3.0)\n",
            "Requirement already satisfied: certifi>=2017.4.17 in /usr/local/lib/python3.11/dist-packages (from requests->keras-tuner) (2025.1.31)\n",
            "Requirement already satisfied: typing-extensions>=4.5.0 in /usr/local/lib/python3.11/dist-packages (from optree->keras->keras-tuner) (4.12.2)\n",
            "Requirement already satisfied: markdown-it-py>=2.2.0 in /usr/local/lib/python3.11/dist-packages (from rich->keras->keras-tuner) (3.0.0)\n",
            "Requirement already satisfied: pygments<3.0.0,>=2.13.0 in /usr/local/lib/python3.11/dist-packages (from rich->keras->keras-tuner) (2.18.0)\n",
            "Requirement already satisfied: mdurl~=0.1 in /usr/local/lib/python3.11/dist-packages (from markdown-it-py>=2.2.0->rich->keras->keras-tuner) (0.1.2)\n",
            "Epoch 1/10\n",
            "\u001b[1m500/500\u001b[0m \u001b[32m━━━━━━━━━━━━━━━━━━━━\u001b[0m\u001b[37m\u001b[0m \u001b[1m648s\u001b[0m 1s/step - accuracy: 0.8204 - loss: 0.3902 - val_accuracy: 0.9195 - val_loss: 0.2136\n",
            "Epoch 2/10\n",
            "\u001b[1m500/500\u001b[0m \u001b[32m━━━━━━━━━━━━━━━━━━━━\u001b[0m\u001b[37m\u001b[0m \u001b[1m626s\u001b[0m 1s/step - accuracy: 0.9222 - loss: 0.2020 - val_accuracy: 0.9252 - val_loss: 0.1959\n",
            "Epoch 3/10\n",
            "\u001b[1m500/500\u001b[0m \u001b[32m━━━━━━━━━━━━━━━━━━━━\u001b[0m\u001b[37m\u001b[0m \u001b[1m635s\u001b[0m 1s/step - accuracy: 0.9288 - loss: 0.1867 - val_accuracy: 0.9298 - val_loss: 0.1864\n",
            "Epoch 4/10\n",
            "\u001b[1m500/500\u001b[0m \u001b[32m━━━━━━━━━━━━━━━━━━━━\u001b[0m\u001b[37m\u001b[0m \u001b[1m635s\u001b[0m 1s/step - accuracy: 0.9262 - loss: 0.1972 - val_accuracy: 0.9305 - val_loss: 0.1859\n",
            "Epoch 5/10\n",
            "\u001b[1m500/500\u001b[0m \u001b[32m━━━━━━━━━━━━━━━━━━━━\u001b[0m\u001b[37m\u001b[0m \u001b[1m638s\u001b[0m 1s/step - accuracy: 0.9356 - loss: 0.1663 - val_accuracy: 0.9285 - val_loss: 0.1887\n",
            "Epoch 6/10\n",
            "\u001b[1m500/500\u001b[0m \u001b[32m━━━━━━━━━━━━━━━━━━━━\u001b[0m\u001b[37m\u001b[0m \u001b[1m636s\u001b[0m 1s/step - accuracy: 0.9352 - loss: 0.1672 - val_accuracy: 0.9210 - val_loss: 0.2052\n",
            "Epoch 7/10\n",
            "\u001b[1m500/500\u001b[0m \u001b[32m━━━━━━━━━━━━━━━━━━━━\u001b[0m\u001b[37m\u001b[0m \u001b[1m641s\u001b[0m 1s/step - accuracy: 0.9347 - loss: 0.1672 - val_accuracy: 0.9277 - val_loss: 0.1878\n",
            "Epoch 8/10\n",
            "\u001b[1m500/500\u001b[0m \u001b[32m━━━━━━━━━━━━━━━━━━━━\u001b[0m\u001b[37m\u001b[0m \u001b[1m655s\u001b[0m 1s/step - accuracy: 0.9297 - loss: 0.1788 - val_accuracy: 0.9305 - val_loss: 0.1811\n",
            "Epoch 9/10\n",
            "\u001b[1m500/500\u001b[0m \u001b[32m━━━━━━━━━━━━━━━━━━━━\u001b[0m\u001b[37m\u001b[0m \u001b[1m642s\u001b[0m 1s/step - accuracy: 0.9390 - loss: 0.1610 - val_accuracy: 0.9337 - val_loss: 0.1718\n",
            "Epoch 10/10\n",
            "\u001b[1m500/500\u001b[0m \u001b[32m━━━━━━━━━━━━━━━━━━━━\u001b[0m\u001b[37m\u001b[0m \u001b[1m651s\u001b[0m 1s/step - accuracy: 0.9395 - loss: 0.1578 - val_accuracy: 0.9170 - val_loss: 0.2251\n"
          ]
        },
        {
          "output_type": "stream",
          "name": "stderr",
          "text": [
            "WARNING:absl:You are saving your model as an HDF5 file via `model.save()` or `keras.saving.save_model(model)`. This file format is considered legacy. We recommend using instead the native Keras format, e.g. `model.save('my_model.keras')` or `keras.saving.save_model(model, 'my_model.keras')`. \n"
          ]
        },
        {
          "output_type": "stream",
          "name": "stdout",
          "text": [
            "✅ Transfer Model Trained and Saved Successfully\n"
          ]
        }
      ],
      "source": [
        "# Install Keras Tuner (if not already installed)\n",
        "!pip install keras-tuner\n",
        "from tensorflow.keras.applications import VGG16\n",
        "from tensorflow.keras import layers, models\n",
        "from tensorflow.keras.optimizers import Adam\n",
        "\n",
        "# Load pre-trained model (VGG16 as an example)\n",
        "base_model = VGG16(weights='imagenet', include_top=False, input_shape=(128, 128, 3))\n",
        "\n",
        "# Add custom layers for transfer learning\n",
        "transfer_model = models.Sequential()\n",
        "transfer_model.add(base_model)\n",
        "transfer_model.add(layers.GlobalAveragePooling2D())\n",
        "transfer_model.add(layers.Dense(1024, activation='relu'))\n",
        "transfer_model.add(layers.Dense(1, activation='sigmoid'))  # Change as per your dataset (binary or categorical)\n",
        "\n",
        "# Freeze the layers of the pre-trained model to retain its learned features\n",
        "for layer in base_model.layers:\n",
        "    layer.trainable = False\n",
        "\n",
        "# Compile the model\n",
        "transfer_model.compile(optimizer=Adam(), loss='binary_crossentropy', metrics=['accuracy'])\n",
        "\n",
        "# Train the model\n",
        "transfer_model.fit(X_train, y_train, epochs=10, validation_data=(X_test, y_test))\n",
        "\n",
        "# Save the model after training\n",
        "transfer_model.save('/content/drive/MyDrive/best_transfer_model.h5')\n",
        "print(\"✅ Transfer Model Trained and Saved Successfully\")\n"
      ]
    },
    {
      "cell_type": "code",
      "execution_count": null,
      "metadata": {
        "colab": {
          "base_uri": "https://localhost:8080/"
        },
        "id": "qbxSEfrWB5Rn",
        "outputId": "7c1a19fe-e947-4652-860a-bc210f6078c7"
      },
      "outputs": [
        {
          "output_type": "stream",
          "name": "stderr",
          "text": [
            "WARNING:absl:Compiled the loaded model, but the compiled metrics have yet to be built. `model.compile_metrics` will be empty until you train or evaluate the model.\n",
            "WARNING:absl:Compiled the loaded model, but the compiled metrics have yet to be built. `model.compile_metrics` will be empty until you train or evaluate the model.\n"
          ]
        },
        {
          "output_type": "stream",
          "name": "stdout",
          "text": [
            "✅ CNN,RCNN and Transfer Models Loaded Successfully\n"
          ]
        }
      ],
      "source": [
        "from tensorflow.keras.models import load_model\n",
        "\n",
        "# Load saved models\n",
        "cnn_model_path = '/content/drive/MyDrive/best_cnn_model.h5'\n",
        "rcnn_model_path = '/content/drive/MyDrive/best_rcnn_model.h5'\n",
        "\n",
        "cnn_model = load_model(cnn_model_path)\n",
        "rcnn_model = load_model(rcnn_model_path)\n",
        "\n",
        "print(\"✅ CNN,RCNN and Transfer Models Loaded Successfully\")\n"
      ]
    },
    {
      "cell_type": "code",
      "execution_count": null,
      "metadata": {
        "id": "zBWkqbTqm4D-"
      },
      "outputs": [],
      "source": [
        "# ✅ Create model wrappers\n",
        "cnn_wrapper = KerasClassifierWrapper(\n",
        "    build_fn=lambda: build_cnn(best_cnn_hps),  # Remove optimizer argument\n",
        "    epochs=10,\n",
        "    batch_size=16\n",
        ")\n",
        "\n",
        "rcnn_wrapper = KerasClassifierWrapper(\n",
        "    build_fn=lambda: build_rcnn(best_rcnn),  # Remove optimizer argument\n",
        "    epochs=10,\n",
        "    batch_size=16\n",
        ")\n",
        "\n",
        "transfer_wrapper = KerasClassifierWrapper(\n",
        "    build_fn=lambda: build_transfer_model(best_transfer_hps),  # Remove optimizer argument\n",
        "    epochs=10,\n",
        "    batch_size=16\n",
        ")\n",
        "\n",
        "gnb = GaussianNB()"
      ]
    },
    {
      "cell_type": "code",
      "execution_count": null,
      "metadata": {
        "colab": {
          "base_uri": "https://localhost:8080/"
        },
        "id": "7pjn4nFgmubk",
        "outputId": "14e21cf2-2920-4051-f624-5fd3f792eb43"
      },
      "outputs": [
        {
          "output_type": "stream",
          "name": "stderr",
          "text": [
            "WARNING:absl:Compiled the loaded model, but the compiled metrics have yet to be built. `model.compile_metrics` will be empty until you train or evaluate the model.\n",
            "WARNING:absl:Compiled the loaded model, but the compiled metrics have yet to be built. `model.compile_metrics` will be empty until you train or evaluate the model.\n",
            "WARNING:absl:Compiled the loaded model, but the compiled metrics have yet to be built. `model.compile_metrics` will be empty until you train or evaluate the model.\n",
            "WARNING:absl:Compiled the loaded model, but the compiled metrics have yet to be built. `model.compile_metrics` will be empty until you train or evaluate the model.\n",
            "WARNING:absl:Compiled the loaded model, but the compiled metrics have yet to be built. `model.compile_metrics` will be empty until you train or evaluate the model.\n",
            "WARNING:absl:Compiled the loaded model, but the compiled metrics have yet to be built. `model.compile_metrics` will be empty until you train or evaluate the model.\n"
          ]
        },
        {
          "output_type": "stream",
          "name": "stdout",
          "text": [
            "CNN model initialized successfully: True\n",
            "RCNN model initialized successfully: True\n",
            "Transfer Learning model initialized successfully: True\n",
            "\u001b[1m500/500\u001b[0m \u001b[32m━━━━━━━━━━━━━━━━━━━━\u001b[0m\u001b[37m\u001b[0m \u001b[1m257s\u001b[0m 513ms/step\n",
            "\u001b[1m125/125\u001b[0m \u001b[32m━━━━━━━━━━━━━━━━━━━━\u001b[0m\u001b[37m\u001b[0m \u001b[1m64s\u001b[0m 512ms/step\n",
            "\u001b[1m500/500\u001b[0m \u001b[32m━━━━━━━━━━━━━━━━━━━━\u001b[0m\u001b[37m\u001b[0m \u001b[1m238s\u001b[0m 475ms/step\n",
            "\u001b[1m500/500\u001b[0m \u001b[32m━━━━━━━━━━━━━━━━━━━━\u001b[0m\u001b[37m\u001b[0m \u001b[1m508s\u001b[0m 1s/step\n",
            "\u001b[1m125/125\u001b[0m \u001b[32m━━━━━━━━━━━━━━━━━━━━\u001b[0m\u001b[37m\u001b[0m \u001b[1m64s\u001b[0m 513ms/step\n",
            "\u001b[1m125/125\u001b[0m \u001b[32m━━━━━━━━━━━━━━━━━━━━\u001b[0m\u001b[37m\u001b[0m \u001b[1m60s\u001b[0m 483ms/step\n",
            "\u001b[1m125/125\u001b[0m \u001b[32m━━━━━━━━━━━━━━━━━━━━\u001b[0m\u001b[37m\u001b[0m \u001b[1m128s\u001b[0m 1s/step\n",
            "Stacked Model Performance:\n",
            "              precision    recall  f1-score   support\n",
            "\n",
            "           0       0.96      0.94      0.95      2019\n",
            "           1       0.94      0.96      0.95      1981\n",
            "\n",
            "    accuracy                           0.95      4000\n",
            "   macro avg       0.95      0.95      0.95      4000\n",
            "weighted avg       0.95      0.95      0.95      4000\n",
            "\n"
          ]
        }
      ],
      "source": [
        "# Load pre-trained models from their paths\n",
        "best_cnn = load_model(\"/content/drive/MyDrive/best_cnn_model.h5\")\n",
        "best_rcnn = load_model(\"/content/drive/MyDrive/best_rcnn_model.h5\")\n",
        "best_transfer = load_model(\"/content/drive/MyDrive/best_transfer_model.h5\")\n",
        "\n",
        "# Initialize the wrappers with the loaded models\n",
        "cnn_wrapper = KerasClassifierWrapper(\n",
        "    model_path=\"/content/drive/MyDrive/best_cnn_model.h5\",\n",
        "    epochs=0,\n",
        "    batch_size=16\n",
        ")\n",
        "\n",
        "rcnn_wrapper = KerasClassifierWrapper(\n",
        "    model_path=\"/content/drive/MyDrive/best_rcnn_model.h5\",\n",
        "    epochs=10,\n",
        "    batch_size=16\n",
        ")\n",
        "\n",
        "transfer_wrapper = KerasClassifierWrapper(\n",
        "    model_path=\"/content/drive/MyDrive/best_transfer_model.h5\",\n",
        "    epochs=0,\n",
        "    batch_size=16\n",
        ")\n",
        "\n",
        "# Ensure models are loaded and compiled properly\n",
        "print(\"CNN model initialized successfully:\", cnn_wrapper.model is not None)\n",
        "print(\"RCNN model initialized successfully:\", rcnn_wrapper.model is not None)\n",
        "print(\"Transfer Learning model initialized successfully:\", transfer_wrapper.model is not None)\n",
        "\n",
        "# Now, you should be able to generate predictions\n",
        "cnn_probs_train = cnn_wrapper.predict_proba(X_train)[:, 0]\n",
        "cnn_probs_test = cnn_wrapper.predict_proba(X_test)[:, 0]\n",
        "\n",
        "rcnn_probs_train = rcnn_wrapper.predict_proba(X_train)[:, 0]\n",
        "transfer_probs_train = transfer_wrapper.predict_proba(X_train)[:, 0]\n",
        "\n",
        "# Generate meta-features for stacking\n",
        "meta_features_train = np.column_stack((cnn_probs_train, rcnn_probs_train, transfer_probs_train))\n",
        "# Train meta-learner\n",
        "meta_learner = LogisticRegression()\n",
        "meta_learner.fit(meta_features_train, y_train)\n",
        "# Generate meta-features for testing\n",
        "cnn_probs_test = cnn_wrapper.predict_proba(X_test)[:, 0]\n",
        "rcnn_probs_test = rcnn_wrapper.predict_proba(X_test)[:, 0]\n",
        "transfer_probs_test = transfer_wrapper.predict_proba(X_test)[:, 0]\n",
        "meta_features_test = np.column_stack((cnn_probs_test, rcnn_probs_test, transfer_probs_test))\n",
        "# Meta-learner makes final predictions\n",
        "y_pred_stack = meta_learner.predict(meta_features_test)\n",
        "# Evaluate Model Stacking Performance\n",
        "print(\"Stacked Model Performance:\")\n",
        "print(classification_report(y_test, y_pred_stack))"
      ]
    },
    {
      "cell_type": "code",
      "source": [
        "import matplotlib.pyplot as plt\n",
        "import seaborn as sns\n",
        "from sklearn.metrics import confusion_matrix\n",
        "def plot_confusion_matrix(y_true, y_pred, title):\n",
        "    \"\"\"Plots a confusion matrix using seaborn heatmap.\"\"\"\n",
        "    cm = confusion_matrix(y_true, y_pred)\n",
        "    plt.figure(figsize=(6,5))\n",
        "    sns.heatmap(cm, annot=True, fmt=\"d\", cmap=\"Blues\", xticklabels=[0,1], yticklabels=[0,1])\n",
        "    plt.xlabel(\"Predicted\")\n",
        "    plt.ylabel(\"Actual\")\n",
        "    plt.title(title)\n",
        "    plt.show()"
      ],
      "metadata": {
        "id": "8mZ3fXC13klk"
      },
      "execution_count": null,
      "outputs": []
    },
    {
      "cell_type": "code",
      "execution_count": null,
      "metadata": {
        "id": "MArK-WXniW6K",
        "colab": {
          "base_uri": "https://localhost:8080/",
          "height": 1000
        },
        "outputId": "5e012b90-3ca1-418d-feb0-cd392c2f774b"
      },
      "outputs": [
        {
          "output_type": "stream",
          "name": "stdout",
          "text": [
            "\u001b[1m125/125\u001b[0m \u001b[32m━━━━━━━━━━━━━━━━━━━━\u001b[0m\u001b[37m\u001b[0m \u001b[1m63s\u001b[0m 502ms/step\n",
            "\u001b[1m125/125\u001b[0m \u001b[32m━━━━━━━━━━━━━━━━━━━━\u001b[0m\u001b[37m\u001b[0m \u001b[1m59s\u001b[0m 471ms/step\n",
            "\u001b[1m125/125\u001b[0m \u001b[32m━━━━━━━━━━━━━━━━━━━━\u001b[0m\u001b[37m\u001b[0m \u001b[1m127s\u001b[0m 1s/step\n",
            "CNN Model Performance:\n",
            "              precision    recall  f1-score   support\n",
            "\n",
            "           0       0.94      0.95      0.95      2019\n",
            "           1       0.95      0.94      0.94      1981\n",
            "\n",
            "    accuracy                           0.95      4000\n",
            "   macro avg       0.95      0.95      0.95      4000\n",
            "weighted avg       0.95      0.95      0.95      4000\n",
            "\n"
          ]
        },
        {
          "output_type": "display_data",
          "data": {
            "text/plain": [
              "<Figure size 600x500 with 2 Axes>"
            ],
            "image/png": "[encoded data removed]"
          },
          "metadata": {}
        },
        {
          "output_type": "stream",
          "name": "stdout",
          "text": [
            "RCNN Model Performance:\n",
            "              precision    recall  f1-score   support\n",
            "\n",
            "           0       0.77      0.89      0.83      2019\n",
            "           1       0.87      0.73      0.79      1981\n",
            "\n",
            "    accuracy                           0.81      4000\n",
            "   macro avg       0.82      0.81      0.81      4000\n",
            "weighted avg       0.82      0.81      0.81      4000\n",
            "\n"
          ]
        },
        {
          "output_type": "display_data",
          "data": {
            "text/plain": [
              "<Figure size 600x500 with 2 Axes>"
            ],
            "image/png": "[encoded data removed]"
          },
          "metadata": {}
        },
        {
          "output_type": "stream",
          "name": "stdout",
          "text": [
            "Transfer Learning Model Performance:\n",
            "              precision    recall  f1-score   support\n",
            "\n",
            "           0       0.98      0.85      0.91      2019\n",
            "           1       0.87      0.98      0.92      1981\n",
            "\n",
            "    accuracy                           0.92      4000\n",
            "   macro avg       0.92      0.92      0.92      4000\n",
            "weighted avg       0.92      0.92      0.92      4000\n",
            "\n"
          ]
        },
        {
          "output_type": "display_data",
          "data": {
            "text/plain": [
              "<Figure size 600x500 with 2 Axes>"
            ],
            "image/png": "[encoded data removed]"
          },
          "metadata": {}
        },
        {
          "output_type": "stream",
          "name": "stdout",
          "text": [
            "GNB Model Performance:\n",
            "              precision    recall  f1-score   support\n",
            "\n",
            "           0       0.67      0.47      0.55      2019\n",
            "           1       0.59      0.77      0.66      1981\n",
            "\n",
            "    accuracy                           0.62      4000\n",
            "   macro avg       0.63      0.62      0.61      4000\n",
            "weighted avg       0.63      0.62      0.61      4000\n",
            "\n"
          ]
        },
        {
          "output_type": "display_data",
          "data": {
            "text/plain": [
              "<Figure size 600x500 with 2 Axes>"
            ],
            "image/png": "[encoded data removed]"
          },
          "metadata": {}
        },
        {
          "output_type": "stream",
          "name": "stdout",
          "text": [
            "Stacked Model Performance:\n",
            "              precision    recall  f1-score   support\n",
            "\n",
            "           0       0.96      0.94      0.95      2019\n",
            "           1       0.94      0.96      0.95      1981\n",
            "\n",
            "    accuracy                           0.95      4000\n",
            "   macro avg       0.95      0.95      0.95      4000\n",
            "weighted avg       0.95      0.95      0.95      4000\n",
            "\n"
          ]
        },
        {
          "output_type": "display_data",
          "data": {
            "text/plain": [
              "<Figure size 600x500 with 2 Axes>"
            ],
            "image/png": "[encoded data removed]"
          },
          "metadata": {}
        },
        {
          "output_type": "stream",
          "name": "stdout",
          "text": [
            "\u001b[1m125/125\u001b[0m \u001b[32m━━━━━━━━━━━━━━━━━━━━\u001b[0m\u001b[37m\u001b[0m \u001b[1m63s\u001b[0m 504ms/step\n"
          ]
        },
        {
          "output_type": "display_data",
          "data": {
            "text/plain": [
              "<Figure size 640x480 with 1 Axes>"
            ],
            "image/png": "[encoded data removed]"
          },
          "metadata": {}
        }
      ],
      "source": [
        "from sklearn.metrics import roc_curve, auc, classification_report\n",
        "import matplotlib.pyplot as plt\n",
        "# Convert predicted probabilities to binary labels\n",
        "# Convert predicted probabilities to binary labels using predict_proba\n",
        "y_pred_cnn = (cnn_wrapper.predict_proba(X_test) > 0.5).astype(int)\n",
        "y_pred_rcnn = (rcnn_wrapper.predict_proba(X_test) > 0.5).astype(int)\n",
        "y_pred_transfer = (transfer_wrapper.predict_proba(X_test) > 0.5).astype(int)\n",
        "# GNB already predicts discrete labels, so no need for thresholding\n",
        "y_pred_gnb = gnb.predict(X_test.reshape(X_test.shape[0], -1))\n",
        "# Stacked model predictions (if required)\n",
        "y_pred_stack = meta_learner.predict(meta_features_test)\n",
        "# Confusion Matrix for CNN\n",
        "print(\"CNN Model Performance:\")\n",
        "print(classification_report(y_test, y_pred_cnn))\n",
        "plot_confusion_matrix(y_test, y_pred_cnn, \"CNN Confusion Matrix\")\n",
        "\n",
        "# Confusion Matrix for RCNN\n",
        "print(\"RCNN Model Performance:\")\n",
        "print(classification_report(y_test, y_pred_rcnn))\n",
        "plot_confusion_matrix(y_test, y_pred_rcnn, \"RCNN Confusion Matrix\")\n",
        "\n",
        "# Confusion Matrix for Transfer Learning Model\n",
        "print(\"Transfer Learning Model Performance:\")\n",
        "print(classification_report(y_test, y_pred_transfer))\n",
        "plot_confusion_matrix(y_test, y_pred_transfer, \"Transfer Learning Confusion Matrix\")\n",
        "\n",
        "# Confusion Matrix for GNB\n",
        "print(\"GNB Model Performance:\")\n",
        "print(classification_report(y_test, y_pred_gnb))\n",
        "plot_confusion_matrix(y_test, y_pred_gnb, \"GNB Confusion Matrix\")\n",
        "\n",
        "# Confusion Matrix for Stacked Model\n",
        "print(\"Stacked Model Performance:\")\n",
        "print(classification_report(y_test, y_pred_stack))\n",
        "plot_confusion_matrix(y_test, y_pred_stack, \"Stacked Model Confusion Matrix\")\n",
        "\n",
        "# ✅ Get predicted probabilities for CNN model\n",
        "y_probs = cnn_wrapper.predict_proba(X_test)\n",
        "y_probs = y_probs.flatten() if y_probs.shape[1] == 1 else y_probs[:, 1]  # Adjust based on sigmoid/softmax\n",
        "\n",
        "# ✅ Compute ROC curve\n",
        "fpr, tpr, _ = roc_curve(y_test, y_probs)\n",
        "roc_auc = auc(fpr, tpr)\n",
        "\n",
        "# ✅ Plot ROC Curve\n",
        "plt.figure()\n",
        "plt.plot(fpr, tpr, color='darkorange', label=f'AUC = {roc_auc:.2f}')\n",
        "plt.plot([0, 1], [0, 1], linestyle='--', color='navy')\n",
        "plt.xlabel(\"False Positive Rate\")\n",
        "plt.ylabel(\"True Positive Rate\")\n",
        "plt.title(\"ROC Curve for CNN Model\")\n",
        "plt.legend()\n",
        "plt.show()\n"
      ]
    },
    {
      "cell_type": "code",
      "execution_count": null,
      "metadata": {
        "id": "4M0vZXZk_8_r"
      },
      "outputs": [],
      "source": []
    }
  ],
  "metadata": {
    "colab": {
      "gpuType": "A100",
      "machine_shape": "hm",
      "provenance": []
    },
    "kernelspec": {
      "display_name": "Python 3",
      "name": "python3"
    },
    "language_info": {
      "name": "python"
    }
  },
  "nbformat": 4,
  "nbformat_minor": 0
}